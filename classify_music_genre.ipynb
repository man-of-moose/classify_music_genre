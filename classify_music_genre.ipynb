{
 "cells": [
  {
   "cell_type": "code",
   "execution_count": 1,
   "id": "d2fca2c7",
   "metadata": {
    "_cell_guid": "b1076dfc-b9ad-4769-8c92-a6c4dae69d19",
    "_uuid": "8f2839f25d086af736a60e9eeb907d3b93b6e0e5",
    "execution": {
     "iopub.execute_input": "2022-05-31T22:40:05.292032Z",
     "iopub.status.busy": "2022-05-31T22:40:05.290946Z",
     "iopub.status.idle": "2022-05-31T22:40:05.304972Z",
     "shell.execute_reply": "2022-05-31T22:40:05.304215Z"
    },
    "papermill": {
     "duration": 0.028823,
     "end_time": "2022-05-31T22:40:05.307394",
     "exception": false,
     "start_time": "2022-05-31T22:40:05.278571",
     "status": "completed"
    },
    "tags": []
   },
   "outputs": [],
   "source": [
    "# This Python 3 environment comes with many helpful analytics libraries installed\n",
    "# It is defined by the kaggle/python Docker image: https://github.com/kaggle/docker-python\n",
    "# For example, here's several helpful packages to load\n",
    "\n",
    "import numpy as np # linear algebra\n",
    "import pandas as pd # data processing, CSV file I/O (e.g. pd.read_csv)\n",
    "\n",
    "# Input data files are available in the read-only \"../input/\" directory\n",
    "# For example, running this (by clicking run or pressing Shift+Enter) will list all files under the input directory\n",
    "\n",
    "import os\n",
    "# for dirname, _, filenames in os.walk('/kaggle/input'):\n",
    "#     for filename in filenames:\n",
    "#         print(os.path.join(dirname, filename))\n",
    "\n",
    "# You can write up to 20GB to the current directory (/kaggle/working/) that gets preserved as output when you create a version using \"Save & Run All\" \n",
    "# You can also write temporary files to /kaggle/temp/, but they won't be saved outside of the current session"
   ]
  },
  {
   "cell_type": "code",
   "execution_count": 2,
   "id": "529deccc",
   "metadata": {
    "execution": {
     "iopub.execute_input": "2022-05-31T22:40:05.322833Z",
     "iopub.status.busy": "2022-05-31T22:40:05.322247Z",
     "iopub.status.idle": "2022-05-31T22:40:32.439262Z",
     "shell.execute_reply": "2022-05-31T22:40:32.437802Z"
    },
    "papermill": {
     "duration": 27.127862,
     "end_time": "2022-05-31T22:40:32.442044",
     "exception": false,
     "start_time": "2022-05-31T22:40:05.314182",
     "status": "completed"
    },
    "tags": []
   },
   "outputs": [
    {
     "name": "stdout",
     "output_type": "stream",
     "text": [
      "Collecting python_speech_features\r\n",
      "  Downloading python_speech_features-0.6.tar.gz (5.6 kB)\r\n",
      "  Preparing metadata (setup.py) ... \u001b[?25l-\b \bdone\r\n",
      "\u001b[?25hBuilding wheels for collected packages: python_speech_features\r\n",
      "  Building wheel for python_speech_features (setup.py) ... \u001b[?25l-\b \b\\\b \bdone\r\n",
      "\u001b[?25h  Created wheel for python_speech_features: filename=python_speech_features-0.6-py3-none-any.whl size=5888 sha256=743982d1a4af9bd52e4d737226cb8e47ba9b68474fe28d206ee4a268dd6d3cbe\r\n",
      "  Stored in directory: /root/.cache/pip/wheels/b0/0e/94/28cd6afa3cd5998a63eef99fe31777acd7d758f59cf24839eb\r\n",
      "Successfully built python_speech_features\r\n",
      "Installing collected packages: python_speech_features\r\n",
      "Successfully installed python_speech_features-0.6\r\n",
      "\u001b[33mWARNING: Running pip as the 'root' user can result in broken permissions and conflicting behaviour with the system package manager. It is recommended to use a virtual environment instead: https://pip.pypa.io/warnings/venv\u001b[0m\u001b[33m\r\n",
      "\u001b[0mRequirement already satisfied: scipy in /opt/conda/lib/python3.7/site-packages (1.7.3)\r\n",
      "Requirement already satisfied: numpy<1.23.0,>=1.16.5 in /opt/conda/lib/python3.7/site-packages (from scipy) (1.21.6)\r\n",
      "\u001b[33mWARNING: Running pip as the 'root' user can result in broken permissions and conflicting behaviour with the system package manager. It is recommended to use a virtual environment instead: https://pip.pypa.io/warnings/venv\u001b[0m\u001b[33m\r\n",
      "\u001b[0m"
     ]
    }
   ],
   "source": [
    "!pip install python_speech_features\n",
    "!pip install scipy"
   ]
  },
  {
   "cell_type": "code",
   "execution_count": 3,
   "id": "4b9261fb",
   "metadata": {
    "execution": {
     "iopub.execute_input": "2022-05-31T22:40:32.460646Z",
     "iopub.status.busy": "2022-05-31T22:40:32.459856Z",
     "iopub.status.idle": "2022-05-31T22:40:35.343972Z",
     "shell.execute_reply": "2022-05-31T22:40:35.342640Z"
    },
    "papermill": {
     "duration": 2.896637,
     "end_time": "2022-05-31T22:40:35.346981",
     "exception": false,
     "start_time": "2022-05-31T22:40:32.450344",
     "status": "completed"
    },
    "tags": []
   },
   "outputs": [],
   "source": [
    "# Import required libraries\n",
    "import numpy as np\n",
    "import pandas as pd\n",
    "import matplotlib.pyplot as plt\n",
    "import scipy.io.wavfile as wav\n",
    "from python_speech_features import mfcc\n",
    "from tempfile import TemporaryFile\n",
    "import os\n",
    "import math\n",
    "import pickle\n",
    "import random\n",
    "import operator\n",
    "import librosa\n",
    "import librosa.display\n",
    "import soundfile as sf\n",
    "\n",
    "from sklearn.model_selection import train_test_split\n",
    "from sklearn.preprocessing import StandardScaler, LabelEncoder\n",
    "from sklearn.decomposition import PCA\n",
    "from sklearn.neighbors import KNeighborsClassifier\n",
    "from sklearn.model_selection import GridSearchCV\n",
    "from sklearn.metrics import confusion_matrix, f1_score\n",
    "from xgboost import XGBClassifier"
   ]
  },
  {
   "cell_type": "code",
   "execution_count": 4,
   "id": "e6a92ceb",
   "metadata": {
    "execution": {
     "iopub.execute_input": "2022-05-31T22:40:35.364889Z",
     "iopub.status.busy": "2022-05-31T22:40:35.364177Z",
     "iopub.status.idle": "2022-05-31T22:40:35.369113Z",
     "shell.execute_reply": "2022-05-31T22:40:35.368097Z"
    },
    "papermill": {
     "duration": 0.01686,
     "end_time": "2022-05-31T22:40:35.371410",
     "exception": false,
     "start_time": "2022-05-31T22:40:35.354550",
     "status": "completed"
    },
    "tags": []
   },
   "outputs": [],
   "source": [
    "def parse_audio(x):\n",
    "    return x.flatten('F')[:x.shape[0]]"
   ]
  },
  {
   "cell_type": "code",
   "execution_count": 5,
   "id": "1faea356",
   "metadata": {
    "execution": {
     "iopub.execute_input": "2022-05-31T22:40:35.388513Z",
     "iopub.status.busy": "2022-05-31T22:40:35.387727Z",
     "iopub.status.idle": "2022-05-31T22:40:35.412366Z",
     "shell.execute_reply": "2022-05-31T22:40:35.411588Z"
    },
    "papermill": {
     "duration": 0.035783,
     "end_time": "2022-05-31T22:40:35.414737",
     "exception": false,
     "start_time": "2022-05-31T22:40:35.378954",
     "status": "completed"
    },
    "tags": []
   },
   "outputs": [],
   "source": [
    "data_directory = '/kaggle/input/gtzan-dataset-music-genre-classification/Data/genres_original'\n",
    "genre = \"pop\"\n",
    "\n",
    "pop_songs = os.listdir(data_directory + \"/\" + genre + \"/\")\n"
   ]
  },
  {
   "cell_type": "code",
   "execution_count": 6,
   "id": "53d8deb2",
   "metadata": {
    "execution": {
     "iopub.execute_input": "2022-05-31T22:40:35.431994Z",
     "iopub.status.busy": "2022-05-31T22:40:35.431297Z",
     "iopub.status.idle": "2022-05-31T22:40:35.463966Z",
     "shell.execute_reply": "2022-05-31T22:40:35.462777Z"
    },
    "papermill": {
     "duration": 0.044175,
     "end_time": "2022-05-31T22:40:35.466420",
     "exception": false,
     "start_time": "2022-05-31T22:40:35.422245",
     "status": "completed"
    },
    "tags": []
   },
   "outputs": [],
   "source": [
    "x, sr = sf.read(data_directory + \"/\" + \"pop\" + \"/\" + pop_songs[0], always_2d=True)"
   ]
  },
  {
   "cell_type": "code",
   "execution_count": 7,
   "id": "8bbd0ef5",
   "metadata": {
    "execution": {
     "iopub.execute_input": "2022-05-31T22:40:35.483286Z",
     "iopub.status.busy": "2022-05-31T22:40:35.482665Z",
     "iopub.status.idle": "2022-05-31T22:40:35.592946Z",
     "shell.execute_reply": "2022-05-31T22:40:35.591706Z"
    },
    "papermill": {
     "duration": 0.122625,
     "end_time": "2022-05-31T22:40:35.596665",
     "exception": false,
     "start_time": "2022-05-31T22:40:35.474040",
     "status": "completed"
    },
    "tags": []
   },
   "outputs": [],
   "source": [
    "mfcc_object = mfcc(x, sr)"
   ]
  },
  {
   "cell_type": "code",
   "execution_count": 8,
   "id": "2369679f",
   "metadata": {
    "execution": {
     "iopub.execute_input": "2022-05-31T22:40:35.627800Z",
     "iopub.status.busy": "2022-05-31T22:40:35.627178Z",
     "iopub.status.idle": "2022-05-31T22:40:35.645413Z",
     "shell.execute_reply": "2022-05-31T22:40:35.644331Z"
    },
    "papermill": {
     "duration": 0.037819,
     "end_time": "2022-05-31T22:40:35.648837",
     "exception": false,
     "start_time": "2022-05-31T22:40:35.611018",
     "status": "completed"
    },
    "tags": []
   },
   "outputs": [
    {
     "data": {
      "text/plain": [
       "661504"
      ]
     },
     "execution_count": 8,
     "metadata": {},
     "output_type": "execute_result"
    }
   ],
   "source": [
    "len(x)"
   ]
  },
  {
   "cell_type": "code",
   "execution_count": 9,
   "id": "be8c5161",
   "metadata": {
    "execution": {
     "iopub.execute_input": "2022-05-31T22:40:35.679660Z",
     "iopub.status.busy": "2022-05-31T22:40:35.679072Z",
     "iopub.status.idle": "2022-05-31T22:40:35.687054Z",
     "shell.execute_reply": "2022-05-31T22:40:35.685983Z"
    },
    "papermill": {
     "duration": 0.032214,
     "end_time": "2022-05-31T22:40:35.695391",
     "exception": false,
     "start_time": "2022-05-31T22:40:35.663177",
     "status": "completed"
    },
    "tags": []
   },
   "outputs": [
    {
     "data": {
      "text/plain": [
       "22050"
      ]
     },
     "execution_count": 9,
     "metadata": {},
     "output_type": "execute_result"
    }
   ],
   "source": [
    "sr"
   ]
  },
  {
   "cell_type": "code",
   "execution_count": 10,
   "id": "bea6d220",
   "metadata": {
    "execution": {
     "iopub.execute_input": "2022-05-31T22:40:35.716192Z",
     "iopub.status.busy": "2022-05-31T22:40:35.715682Z",
     "iopub.status.idle": "2022-05-31T22:42:53.670916Z",
     "shell.execute_reply": "2022-05-31T22:42:53.669223Z"
    },
    "papermill": {
     "duration": 137.967921,
     "end_time": "2022-05-31T22:42:53.674491",
     "exception": false,
     "start_time": "2022-05-31T22:40:35.706570",
     "status": "completed"
    },
    "tags": []
   },
   "outputs": [],
   "source": [
    "data_directory = '/kaggle/input/gtzan-dataset-music-genre-classification/Data/genres_original'\n",
    "\n",
    "data = []\n",
    "labels = []\n",
    "bad_files = []\n",
    "\n",
    "for folder in os.listdir(data_directory):\n",
    "    for song in os.listdir(data_directory + \"/\" + folder):\n",
    "        try:\n",
    "            x, sr = sf.read(data_directory + \"/\" + folder + \"/\" + song, always_2d=True)\n",
    "            x = parse_audio(x)\n",
    "            mfcc_feat = mfcc(x, sr, winlen = 0.020, appendEnergy=False)\n",
    "            means = mfcc_feat.mean(0)\n",
    "            data.append(means)\n",
    "            labels.append(folder)\n",
    "        except Exception:\n",
    "            bad_files.append(song)\n",
    "        "
   ]
  },
  {
   "cell_type": "code",
   "execution_count": 11,
   "id": "ac9da78c",
   "metadata": {
    "execution": {
     "iopub.execute_input": "2022-05-31T22:42:53.707199Z",
     "iopub.status.busy": "2022-05-31T22:42:53.705670Z",
     "iopub.status.idle": "2022-05-31T22:42:53.713551Z",
     "shell.execute_reply": "2022-05-31T22:42:53.712396Z"
    },
    "papermill": {
     "duration": 0.027496,
     "end_time": "2022-05-31T22:42:53.716587",
     "exception": false,
     "start_time": "2022-05-31T22:42:53.689091",
     "status": "completed"
    },
    "tags": []
   },
   "outputs": [],
   "source": [
    "X = np.array(data)\n",
    "Y = labels"
   ]
  },
  {
   "cell_type": "code",
   "execution_count": 12,
   "id": "07a333d0",
   "metadata": {
    "execution": {
     "iopub.execute_input": "2022-05-31T22:42:53.748095Z",
     "iopub.status.busy": "2022-05-31T22:42:53.746515Z",
     "iopub.status.idle": "2022-05-31T22:42:53.757911Z",
     "shell.execute_reply": "2022-05-31T22:42:53.756590Z"
    },
    "papermill": {
     "duration": 0.031338,
     "end_time": "2022-05-31T22:42:53.761714",
     "exception": false,
     "start_time": "2022-05-31T22:42:53.730376",
     "status": "completed"
    },
    "tags": []
   },
   "outputs": [],
   "source": [
    "X_train, X_test, y_train, y_test = train_test_split(X, Y)"
   ]
  },
  {
   "cell_type": "code",
   "execution_count": 13,
   "id": "59162461",
   "metadata": {
    "execution": {
     "iopub.execute_input": "2022-05-31T22:42:53.789195Z",
     "iopub.status.busy": "2022-05-31T22:42:53.788789Z",
     "iopub.status.idle": "2022-05-31T22:42:54.082688Z",
     "shell.execute_reply": "2022-05-31T22:42:54.081532Z"
    },
    "papermill": {
     "duration": 0.30856,
     "end_time": "2022-05-31T22:42:54.084887",
     "exception": false,
     "start_time": "2022-05-31T22:42:53.776327",
     "status": "completed"
    },
    "tags": []
   },
   "outputs": [
    {
     "data": {
      "image/png": "[encoded data removed]",
      "text/plain": [
       "<Figure size 432x288 with 1 Axes>"
      ]
     },
     "metadata": {
      "needs_background": "light"
     },
     "output_type": "display_data"
    }
   ],
   "source": [
    "scaler = StandardScaler()\n",
    "scaler.fit(X_train)\n",
    "X_train_scaled = scaler.transform(X_train)\n",
    "X_test_scaled = scaler.transform(X_test)\n",
    "\n",
    "pca = PCA().fit(X_train_scaled)\n",
    "\n",
    "plt.plot(np.cumsum(pca.explained_variance_ratio_))\n",
    "plt.xlabel('Number of Components')\n",
    "plt.ylabel('Variance (%)')\n",
    "plt.show()"
   ]
  },
  {
   "cell_type": "code",
   "execution_count": 14,
   "id": "f64f3741",
   "metadata": {
    "execution": {
     "iopub.execute_input": "2022-05-31T22:42:54.102629Z",
     "iopub.status.busy": "2022-05-31T22:42:54.102223Z",
     "iopub.status.idle": "2022-05-31T22:42:54.111902Z",
     "shell.execute_reply": "2022-05-31T22:42:54.110895Z"
    },
    "papermill": {
     "duration": 0.020895,
     "end_time": "2022-05-31T22:42:54.113873",
     "exception": false,
     "start_time": "2022-05-31T22:42:54.092978",
     "status": "completed"
    },
    "tags": []
   },
   "outputs": [],
   "source": [
    "df = pd.DataFrame(X_train_scaled)\n",
    "df['target'] = y_train"
   ]
  },
  {
   "cell_type": "code",
   "execution_count": 15,
   "id": "0e76f925",
   "metadata": {
    "execution": {
     "iopub.execute_input": "2022-05-31T22:42:54.131946Z",
     "iopub.status.busy": "2022-05-31T22:42:54.131521Z",
     "iopub.status.idle": "2022-05-31T22:42:54.140916Z",
     "shell.execute_reply": "2022-05-31T22:42:54.139924Z"
    },
    "papermill": {
     "duration": 0.021164,
     "end_time": "2022-05-31T22:42:54.143134",
     "exception": false,
     "start_time": "2022-05-31T22:42:54.121970",
     "status": "completed"
    },
    "tags": []
   },
   "outputs": [],
   "source": [
    "vals = df.loc[:, df.columns != 'target'].values"
   ]
  },
  {
   "cell_type": "code",
   "execution_count": 16,
   "id": "b543ade0",
   "metadata": {
    "execution": {
     "iopub.execute_input": "2022-05-31T22:42:54.160954Z",
     "iopub.status.busy": "2022-05-31T22:42:54.160278Z",
     "iopub.status.idle": "2022-05-31T22:42:54.170522Z",
     "shell.execute_reply": "2022-05-31T22:42:54.169501Z"
    },
    "papermill": {
     "duration": 0.021408,
     "end_time": "2022-05-31T22:42:54.172596",
     "exception": false,
     "start_time": "2022-05-31T22:42:54.151188",
     "status": "completed"
    },
    "tags": []
   },
   "outputs": [],
   "source": [
    "labs = df['target'].values"
   ]
  },
  {
   "cell_type": "code",
   "execution_count": 17,
   "id": "d7722a74",
   "metadata": {
    "execution": {
     "iopub.execute_input": "2022-05-31T22:42:54.190451Z",
     "iopub.status.busy": "2022-05-31T22:42:54.189842Z",
     "iopub.status.idle": "2022-05-31T22:42:54.194213Z",
     "shell.execute_reply": "2022-05-31T22:42:54.193472Z"
    },
    "papermill": {
     "duration": 0.015382,
     "end_time": "2022-05-31T22:42:54.196029",
     "exception": false,
     "start_time": "2022-05-31T22:42:54.180647",
     "status": "completed"
    },
    "tags": []
   },
   "outputs": [],
   "source": [
    "le = LabelEncoder()\n",
    "labs_encoded = le.fit_transform(labs)"
   ]
  },
  {
   "cell_type": "code",
   "execution_count": 18,
   "id": "2ad5c062",
   "metadata": {
    "execution": {
     "iopub.execute_input": "2022-05-31T22:42:54.214050Z",
     "iopub.status.busy": "2022-05-31T22:42:54.213385Z",
     "iopub.status.idle": "2022-05-31T22:42:55.445071Z",
     "shell.execute_reply": "2022-05-31T22:42:55.444021Z"
    },
    "papermill": {
     "duration": 1.243491,
     "end_time": "2022-05-31T22:42:55.447467",
     "exception": false,
     "start_time": "2022-05-31T22:42:54.203976",
     "status": "completed"
    },
    "tags": []
   },
   "outputs": [
    {
     "data": {
      "text/plain": [
       "XGBClassifier(base_score=0.5, booster='gbtree', callbacks=None,\n",
       "              colsample_bylevel=1, colsample_bynode=1, colsample_bytree=1,\n",
       "              early_stopping_rounds=None, enable_categorical=False,\n",
       "              eval_metric=None, gamma=0, gpu_id=-1, grow_policy='depthwise',\n",
       "              importance_type=None, interaction_constraints='',\n",
       "              learning_rate=0.300000012, max_bin=256, max_cat_to_onehot=4,\n",
       "              max_delta_step=0, max_depth=6, max_leaves=0, min_child_weight=1,\n",
       "              missing=nan, monotone_constraints='()', n_estimators=100,\n",
       "              n_jobs=0, num_parallel_tree=1, objective='multi:softprob',\n",
       "              predictor='auto', random_state=0, reg_alpha=0, ...)"
      ]
     },
     "execution_count": 18,
     "metadata": {},
     "output_type": "execute_result"
    }
   ],
   "source": [
    "model = XGBClassifier()\n",
    "model.fit(vals, labs_encoded)"
   ]
  },
  {
   "cell_type": "code",
   "execution_count": 19,
   "id": "d23e3a72",
   "metadata": {
    "execution": {
     "iopub.execute_input": "2022-05-31T22:42:55.465648Z",
     "iopub.status.busy": "2022-05-31T22:42:55.465245Z",
     "iopub.status.idle": "2022-05-31T22:57:41.311396Z",
     "shell.execute_reply": "2022-05-31T22:57:41.310266Z"
    },
    "papermill": {
     "duration": 885.865282,
     "end_time": "2022-05-31T22:57:41.320909",
     "exception": false,
     "start_time": "2022-05-31T22:42:55.455627",
     "status": "completed"
    },
    "tags": []
   },
   "outputs": [
    {
     "data": {
      "text/plain": [
       "GridSearchCV(cv=5,\n",
       "             estimator=XGBClassifier(base_score=None, booster=None,\n",
       "                                     callbacks=None, colsample_bylevel=None,\n",
       "                                     colsample_bynode=None,\n",
       "                                     colsample_bytree=None,\n",
       "                                     early_stopping_rounds=None,\n",
       "                                     enable_categorical=False, eval_metric=None,\n",
       "                                     gamma=None, gpu_id=None, grow_policy=None,\n",
       "                                     importance_type=None,\n",
       "                                     interaction_constraints=None,\n",
       "                                     learning_rate=None, max_bin=None,\n",
       "                                     max_ca...\n",
       "                                     max_leaves=None, min_child_weight=None,\n",
       "                                     missing=nan, monotone_constraints=None,\n",
       "                                     n_estimators=100, n_jobs=None,\n",
       "                                     num_parallel_tree=None, predictor=None,\n",
       "                                     random_state=None, reg_alpha=None,\n",
       "                                     reg_lambda=None, ...),\n",
       "             n_jobs=-1,\n",
       "             param_grid={'colsample_bytree': [0.6, 0.8, 1.0],\n",
       "                         'gamma': [0.5, 1, 1.5, 2, 5], 'max_depth': [3, 4, 5],\n",
       "                         'min_child_weight': [1, 5, 10],\n",
       "                         'subsample': [0.6, 0.8, 1.0]})"
      ]
     },
     "execution_count": 19,
     "metadata": {},
     "output_type": "execute_result"
    }
   ],
   "source": [
    "params = {\n",
    "        'min_child_weight': [1, 5, 10],\n",
    "        'gamma': [0.5, 1, 1.5, 2, 5],\n",
    "        'subsample': [0.6, 0.8, 1.0],\n",
    "        'colsample_bytree': [0.6, 0.8, 1.0],\n",
    "        'max_depth': [3, 4, 5]\n",
    "        }\n",
    "\n",
    "model = GridSearchCV(XGBClassifier(), params, cv=5, n_jobs=-1)\n",
    "model.fit(vals, labs_encoded)"
   ]
  },
  {
   "cell_type": "code",
   "execution_count": 20,
   "id": "7485b0b0",
   "metadata": {
    "execution": {
     "iopub.execute_input": "2022-05-31T22:57:41.340927Z",
     "iopub.status.busy": "2022-05-31T22:57:41.340464Z",
     "iopub.status.idle": "2022-05-31T22:57:41.356178Z",
     "shell.execute_reply": "2022-05-31T22:57:41.355419Z"
    },
    "papermill": {
     "duration": 0.029559,
     "end_time": "2022-05-31T22:57:41.358816",
     "exception": false,
     "start_time": "2022-05-31T22:57:41.329257",
     "status": "completed"
    },
    "tags": []
   },
   "outputs": [
    {
     "name": "stdout",
     "output_type": "stream",
     "text": [
      "Confusion Matrix: \n",
      "[[14  0  1  1  0  2  2  0  2  1]\n",
      " [ 0 23  1  1  0  1  0  0  0  0]\n",
      " [ 2  0  7  1  1  0  0  1  2  2]\n",
      " [ 1  2  0 15  3  1  1  1  2  0]\n",
      " [ 2  0  1  3  9  0  1  0  6  1]\n",
      " [ 3  0  5  1  2 14  1  2  2  1]\n",
      " [ 2  0  0  0  2  0 17  0  0  0]\n",
      " [ 0  0  2  0  3  0  0 21  1  0]\n",
      " [ 2  0  1  0  5  2  0  0 13  2]\n",
      " [ 3  0  6  6  1  2  1  0  0 13]]\n"
     ]
    }
   ],
   "source": [
    "y_predict = model.predict(X_test_scaled)\n",
    "y_predict_decoded = le.inverse_transform(y_predict)\n",
    "print(f'Confusion Matrix: \\n{confusion_matrix(y_predict_decoded, y_test)}')"
   ]
  },
  {
   "cell_type": "code",
   "execution_count": 21,
   "id": "50df0841",
   "metadata": {
    "execution": {
     "iopub.execute_input": "2022-05-31T22:57:41.379554Z",
     "iopub.status.busy": "2022-05-31T22:57:41.379152Z",
     "iopub.status.idle": "2022-05-31T22:57:41.391557Z",
     "shell.execute_reply": "2022-05-31T22:57:41.390471Z"
    },
    "papermill": {
     "duration": 0.024504,
     "end_time": "2022-05-31T22:57:41.393908",
     "exception": false,
     "start_time": "2022-05-31T22:57:41.369404",
     "status": "completed"
    },
    "tags": []
   },
   "outputs": [
    {
     "data": {
      "text/plain": [
       "0.5880219771279229"
      ]
     },
     "execution_count": 21,
     "metadata": {},
     "output_type": "execute_result"
    }
   ],
   "source": [
    "f1_score(y_predict_decoded, y_test, average=\"weighted\")"
   ]
  },
  {
   "cell_type": "code",
   "execution_count": null,
   "id": "4f5e88fa",
   "metadata": {
    "papermill": {
     "duration": 0.008138,
     "end_time": "2022-05-31T22:57:41.410493",
     "exception": false,
     "start_time": "2022-05-31T22:57:41.402355",
     "status": "completed"
    },
    "tags": []
   },
   "outputs": [],
   "source": []
  }
 ],
 "metadata": {
  "kernelspec": {
   "display_name": "Python 3",
   "language": "python",
   "name": "python3"
  },
  "language_info": {
   "codemirror_mode": {
    "name": "ipython",
    "version": 3
   },
   "file_extension": ".py",
   "mimetype": "text/x-python",
   "name": "python",
   "nbconvert_exporter": "python",
   "pygments_lexer": "ipython3",
   "version": "3.7.12"
  },
  "papermill": {
   "default_parameters": {},
   "duration": 1069.814195,
   "end_time": "2022-05-31T22:57:44.053036",
   "environment_variables": {},
   "exception": null,
   "input_path": "__notebook__.ipynb",
   "output_path": "__notebook__.ipynb",
   "parameters": {},
   "start_time": "2022-05-31T22:39:54.238841",
   "version": "2.3.4"
  }
 },
 "nbformat": 4,
 "nbformat_minor": 5
}
